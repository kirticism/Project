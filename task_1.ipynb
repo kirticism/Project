{
  "nbformat": 4,
  "nbformat_minor": 0,
  "metadata": {
    "colab": {
      "name": "task-1.ipynb",
      "provenance": [],
      "collapsed_sections": [],
      "authorship_tag": "ABX9TyNuV4HQDMDQIE9MTH/eU8BY",
      "include_colab_link": true
    },
    "kernelspec": {
      "name": "python3",
      "display_name": "Python 3"
    }
  },
  "cells": [
    {
      "cell_type": "markdown",
      "metadata": {
        "id": "view-in-github",
        "colab_type": "text"
      },
      "source": [
        "<a href=\"https://colab.research.google.com/github/kirticism/Project/blob/main/task_1.ipynb\" target=\"_parent\"><img src=\"https://colab.research.google.com/assets/colab-badge.svg\" alt=\"Open In Colab\"/></a>"
      ]
    },
    {
      "cell_type": "markdown",
      "metadata": {
        "id": "dxrcUYrBYbj7"
      },
      "source": [
        "**GRIP- The Spark Foundation Internship**"
      ]
    },
    {
      "cell_type": "markdown",
      "metadata": {
        "id": "9j7sMzEUeVpJ"
      },
      "source": [
        "**Task-1** \r\n",
        "**Prediction using supervised machine learning**"
      ]
    },
    {
      "cell_type": "markdown",
      "metadata": {
        "id": "wFfYT5fAZ7yr"
      },
      "source": [
        "Author: Kirti Singh"
      ]
    },
    {
      "cell_type": "markdown",
      "metadata": {
        "id": "dFblOtROfKcB"
      },
      "source": [
        "Predict the percentage of an student based on the no. of study hours."
      ]
    },
    {
      "cell_type": "markdown",
      "metadata": {
        "id": "WSxOC-Ycl8AK"
      },
      "source": [
        "**Overview :**\r\n",
        "\r\n",
        "\r\n",
        "\r\n",
        "*   Understand the Data\r\n",
        "*   Data Cleaning\r\n",
        "*   Exploratory Data Analysis\r\n",
        "*   Data Visualization\r\n",
        "*   Data Modelling\r\n",
        "*   Prediction and Evaluation of Model\r\n",
        "\r\n",
        "\r\n",
        "\r\n",
        "\r\n",
        "\r\n",
        "\r\n",
        "\r\n",
        "\r\n",
        "\r\n"
      ]
    },
    {
      "cell_type": "markdown",
      "metadata": {
        "id": "MpFBEleKAPj6"
      },
      "source": [
        "**Import the Libraries**\r\n"
      ]
    },
    {
      "cell_type": "code",
      "metadata": {
        "id": "RYxGhl4pCoar"
      },
      "source": [
        "import pandas as pd #csv file I/O, data processing\r\n",
        "import numpy as np #linear algebra\r\n",
        "import matplotlib.pyplot as plt \r\n",
        "import seaborn as sns\r\n",
        "from sklearn.linear_model import LinearRegression\r\n",
        "from sklearn.model_selection import train_test_split #to split the data into train and test data\r\n",
        " \r\n",
        "%matplotlib inline"
      ],
      "execution_count": null,
      "outputs": []
    },
    {
      "cell_type": "code",
      "metadata": {
        "colab": {
          "base_uri": "https://localhost:8080/",
          "height": 195
        },
        "id": "0_4Jby_BEifL",
        "outputId": "eaa6b55c-ede8-4c71-9d32-ebce444f93ea"
      },
      "source": [
        "df = pd.read_csv(\"https://raw.githubusercontent.com/AdiPersonalWorks/Random/master/student_scores%20-%20student_scores.csv\") #import the data\r\n",
        "df.head() #display the first 5 rows of the data"
      ],
      "execution_count": null,
      "outputs": [
        {
          "output_type": "execute_result",
          "data": {
            "text/html": [
              "<div>\n",
              "<style scoped>\n",
              "    .dataframe tbody tr th:only-of-type {\n",
              "        vertical-align: middle;\n",
              "    }\n",
              "\n",
              "    .dataframe tbody tr th {\n",
              "        vertical-align: top;\n",
              "    }\n",
              "\n",
              "    .dataframe thead th {\n",
              "        text-align: right;\n",
              "    }\n",
              "</style>\n",
              "<table border=\"1\" class=\"dataframe\">\n",
              "  <thead>\n",
              "    <tr style=\"text-align: right;\">\n",
              "      <th></th>\n",
              "      <th>Hours</th>\n",
              "      <th>Scores</th>\n",
              "    </tr>\n",
              "  </thead>\n",
              "  <tbody>\n",
              "    <tr>\n",
              "      <th>0</th>\n",
              "      <td>2.5</td>\n",
              "      <td>21</td>\n",
              "    </tr>\n",
              "    <tr>\n",
              "      <th>1</th>\n",
              "      <td>5.1</td>\n",
              "      <td>47</td>\n",
              "    </tr>\n",
              "    <tr>\n",
              "      <th>2</th>\n",
              "      <td>3.2</td>\n",
              "      <td>27</td>\n",
              "    </tr>\n",
              "    <tr>\n",
              "      <th>3</th>\n",
              "      <td>8.5</td>\n",
              "      <td>75</td>\n",
              "    </tr>\n",
              "    <tr>\n",
              "      <th>4</th>\n",
              "      <td>3.5</td>\n",
              "      <td>30</td>\n",
              "    </tr>\n",
              "  </tbody>\n",
              "</table>\n",
              "</div>"
            ],
            "text/plain": [
              "   Hours  Scores\n",
              "0    2.5      21\n",
              "1    5.1      47\n",
              "2    3.2      27\n",
              "3    8.5      75\n",
              "4    3.5      30"
            ]
          },
          "metadata": {
            "tags": []
          },
          "execution_count": 18
        }
      ]
    },
    {
      "cell_type": "markdown",
      "metadata": {
        "id": "JoZ4j6z3bYOG"
      },
      "source": [
        "Our dataset doesn't require cleaning "
      ]
    },
    {
      "cell_type": "markdown",
      "metadata": {
        "id": "epzabi_MYeYA"
      },
      "source": [
        "**Exploratory data analysis**"
      ]
    },
    {
      "cell_type": "code",
      "metadata": {
        "colab": {
          "base_uri": "https://localhost:8080/"
        },
        "id": "ubWa5y_6GBOH",
        "outputId": "c2da67ed-deaf-4a94-ed60-511222b4ee9f"
      },
      "source": [
        "df.shape #returns tuple of shape (rows, columns) of dataframe/series"
      ],
      "execution_count": null,
      "outputs": [
        {
          "output_type": "execute_result",
          "data": {
            "text/plain": [
              "(25, 2)"
            ]
          },
          "metadata": {
            "tags": []
          },
          "execution_count": 19
        }
      ]
    },
    {
      "cell_type": "markdown",
      "metadata": {
        "id": "MlPmF5h0Y9J8"
      },
      "source": [
        "This shows that our dataset comprises of 25 observations and 2 characteristics."
      ]
    },
    {
      "cell_type": "markdown",
      "metadata": {
        "id": "4FMlpjWWZpYM"
      },
      "source": [
        "It is good practice to know the columns and their corresponding data types, along with finding whether they contain null values or not."
      ]
    },
    {
      "cell_type": "code",
      "metadata": {
        "colab": {
          "base_uri": "https://localhost:8080/"
        },
        "id": "4hg1Ei1rZwWB",
        "outputId": "508a2121-7383-4be8-b64c-b0ae08a8d26f"
      },
      "source": [
        "df.info() #quick look at our data types & null counts"
      ],
      "execution_count": null,
      "outputs": [
        {
          "output_type": "stream",
          "text": [
            "<class 'pandas.core.frame.DataFrame'>\n",
            "RangeIndex: 25 entries, 0 to 24\n",
            "Data columns (total 2 columns):\n",
            " #   Column  Non-Null Count  Dtype  \n",
            "---  ------  --------------  -----  \n",
            " 0   Hours   25 non-null     float64\n",
            " 1   Scores  25 non-null     int64  \n",
            "dtypes: float64(1), int64(1)\n",
            "memory usage: 528.0 bytes\n"
          ],
          "name": "stdout"
        }
      ]
    },
    {
      "cell_type": "markdown",
      "metadata": {
        "id": "sCzF44-haVFE"
      },
      "source": [
        "Data has only float and integer values, and no variable column has null/missing values."
      ]
    },
    {
      "cell_type": "code",
      "metadata": {
        "colab": {
          "base_uri": "https://localhost:8080/",
          "height": 284
        },
        "id": "wBpP8yYCahpv",
        "outputId": "4240fe09-cca1-4f35-a997-8bab8bcbf84b"
      },
      "source": [
        "df.describe() #The describe() function results in statistical summary of the data"
      ],
      "execution_count": null,
      "outputs": [
        {
          "output_type": "execute_result",
          "data": {
            "text/html": [
              "<div>\n",
              "<style scoped>\n",
              "    .dataframe tbody tr th:only-of-type {\n",
              "        vertical-align: middle;\n",
              "    }\n",
              "\n",
              "    .dataframe tbody tr th {\n",
              "        vertical-align: top;\n",
              "    }\n",
              "\n",
              "    .dataframe thead th {\n",
              "        text-align: right;\n",
              "    }\n",
              "</style>\n",
              "<table border=\"1\" class=\"dataframe\">\n",
              "  <thead>\n",
              "    <tr style=\"text-align: right;\">\n",
              "      <th></th>\n",
              "      <th>Hours</th>\n",
              "      <th>Scores</th>\n",
              "    </tr>\n",
              "  </thead>\n",
              "  <tbody>\n",
              "    <tr>\n",
              "      <th>count</th>\n",
              "      <td>25.000000</td>\n",
              "      <td>25.000000</td>\n",
              "    </tr>\n",
              "    <tr>\n",
              "      <th>mean</th>\n",
              "      <td>5.012000</td>\n",
              "      <td>51.480000</td>\n",
              "    </tr>\n",
              "    <tr>\n",
              "      <th>std</th>\n",
              "      <td>2.525094</td>\n",
              "      <td>25.286887</td>\n",
              "    </tr>\n",
              "    <tr>\n",
              "      <th>min</th>\n",
              "      <td>1.100000</td>\n",
              "      <td>17.000000</td>\n",
              "    </tr>\n",
              "    <tr>\n",
              "      <th>25%</th>\n",
              "      <td>2.700000</td>\n",
              "      <td>30.000000</td>\n",
              "    </tr>\n",
              "    <tr>\n",
              "      <th>50%</th>\n",
              "      <td>4.800000</td>\n",
              "      <td>47.000000</td>\n",
              "    </tr>\n",
              "    <tr>\n",
              "      <th>75%</th>\n",
              "      <td>7.400000</td>\n",
              "      <td>75.000000</td>\n",
              "    </tr>\n",
              "    <tr>\n",
              "      <th>max</th>\n",
              "      <td>9.200000</td>\n",
              "      <td>95.000000</td>\n",
              "    </tr>\n",
              "  </tbody>\n",
              "</table>\n",
              "</div>"
            ],
            "text/plain": [
              "           Hours     Scores\n",
              "count  25.000000  25.000000\n",
              "mean    5.012000  51.480000\n",
              "std     2.525094  25.286887\n",
              "min     1.100000  17.000000\n",
              "25%     2.700000  30.000000\n",
              "50%     4.800000  47.000000\n",
              "75%     7.400000  75.000000\n",
              "max     9.200000  95.000000"
            ]
          },
          "metadata": {
            "tags": []
          },
          "execution_count": 21
        }
      ]
    },
    {
      "cell_type": "markdown",
      "metadata": {
        "id": "WaGO9AXqbmWM"
      },
      "source": [
        "This function returns the count, mean, standard deviation, minimum and maximum values and the quantiles of the data."
      ]
    },
    {
      "cell_type": "code",
      "metadata": {
        "colab": {
          "base_uri": "https://localhost:8080/"
        },
        "id": "vAlqJGOfxjxJ",
        "outputId": "c35916db-ad89-4503-8723-883f5bd8ecaa"
      },
      "source": [
        "df.isnull().sum() #checking for missing values"
      ],
      "execution_count": null,
      "outputs": [
        {
          "output_type": "execute_result",
          "data": {
            "text/plain": [
              "Hours     0\n",
              "Scores    0\n",
              "dtype: int64"
            ]
          },
          "metadata": {
            "tags": []
          },
          "execution_count": 22
        }
      ]
    },
    {
      "cell_type": "code",
      "metadata": {
        "colab": {
          "base_uri": "https://localhost:8080/",
          "height": 286
        },
        "id": "VDP2NPPYcznu",
        "outputId": "df963a08-f586-4354-c150-6cbab5dbd042"
      },
      "source": [
        "df.corr() #checking the correlation between hours and scores\r\n",
        "sns.heatmap(df.corr())"
      ],
      "execution_count": null,
      "outputs": [
        {
          "output_type": "execute_result",
          "data": {
            "text/plain": [
              "<matplotlib.axes._subplots.AxesSubplot at 0x7fb4d9cab358>"
            ]
          },
          "metadata": {
            "tags": []
          },
          "execution_count": 9
        },
        {
          "output_type": "display_data",
          "data": {
            "image/png": "[encoded data removed]",
            "text/plain": [
              "<Figure size 432x288 with 2 Axes>"
            ]
          },
          "metadata": {
            "tags": [],
            "needs_background": "light"
          }
        }
      ]
    },
    {
      "cell_type": "markdown",
      "metadata": {
        "id": "pdS_-QNpdLjW"
      },
      "source": [
        "It clearly states that there is higher correlation between hours and scores."
      ]
    },
    {
      "cell_type": "markdown",
      "metadata": {
        "id": "BI_6U_xrdXaM"
      },
      "source": [
        "**Data Visualization**"
      ]
    },
    {
      "cell_type": "code",
      "metadata": {
        "colab": {
          "base_uri": "https://localhost:8080/",
          "height": 388
        },
        "id": "aRAKw6J9nmNh",
        "outputId": "b139d54f-87f0-4bf0-85a6-156ce0a0e7b8"
      },
      "source": [
        "#plotting the distribution of scores using scatter plot\r\n",
        "df.plot(kind='scatter', x='Hours', y='Scores',figsize=(10,6), color='firebrick') #draw plot\r\n",
        "plt.title=('Hours v/s Percentage') \r\n",
        "plt.xlabel=('Hours Studied')\r\n",
        "plt.ylabel=('Percentage')"
      ],
      "execution_count": null,
      "outputs": [
        {
          "output_type": "display_data",
          "data": {
            "image/png": "[encoded data removed]",
            "text/plain": [
              "<Figure size 720x432 with 1 Axes>"
            ]
          },
          "metadata": {
            "tags": [],
            "needs_background": "light"
          }
        }
      ]
    },
    {
      "cell_type": "markdown",
      "metadata": {
        "id": "YVuZ3qVDzUpV"
      },
      "source": [
        "Our visualization states that, this problem can be solved by using linear regression."
      ]
    },
    {
      "cell_type": "markdown",
      "metadata": {
        "id": "MjLF76glTJ-q"
      },
      "source": [
        "**Data Modelling**"
      ]
    },
    {
      "cell_type": "code",
      "metadata": {
        "id": "Go7aaI21goCs"
      },
      "source": [
        "x=np.asanyarray(df[['Hours']])\r\n",
        "y=np.asanyarray(df['Scores'])"
      ],
      "execution_count": null,
      "outputs": []
    },
    {
      "cell_type": "code",
      "metadata": {
        "colab": {
          "base_uri": "https://localhost:8080/"
        },
        "id": "NZkGJfEmjhIE",
        "outputId": "634f0370-7e76-4116-ad69-71e08b091d05"
      },
      "source": [
        "train_x, test_x, train_y, test_y=train_test_split(x,y,test_size=0.2, random_state=2) \r\n",
        "lr=LinearRegression()\r\n",
        "lr.fit(train_x, train_y)\r\n",
        "print(\"coefficient-\", lr.coef_)\r\n",
        "print(\"intercept-\", lr.intercept_) #to calculate the intercept of our model"
      ],
      "execution_count": null,
      "outputs": [
        {
          "output_type": "stream",
          "text": [
            "coefficient- [9.94061514]\n",
            "intercept- 1.5079104828268939\n"
          ],
          "name": "stdout"
        }
      ]
    },
    {
      "cell_type": "code",
      "metadata": {
        "colab": {
          "base_uri": "https://localhost:8080/",
          "height": 351
        },
        "id": "3HyQujxjlNaM",
        "outputId": "46f4b3a4-fa18-4e51-ac2a-bd69c5b83ed4"
      },
      "source": [
        "#plot the fit line over the data in single linear regression\r\n",
        "df.plot(kind='scatter', x='Hours', y='Scores', figsize=(10,5), color='firebrick') \r\n",
        "plt.plot(train_x, lr.coef_[0]*train_x + lr.intercept_, color='k')\r\n",
        "plt.title=('Hours v/s Percentage')\r\n",
        "plt.xlabel=(\"hours dedicated\")\r\n",
        "plt.ylabel=(\"percentage\")\r\n",
        "plt.legend(['prediction','actual'])"
      ],
      "execution_count": null,
      "outputs": [
        {
          "output_type": "execute_result",
          "data": {
            "text/plain": [
              "<matplotlib.legend.Legend at 0x7fb4d0de1e80>"
            ]
          },
          "metadata": {
            "tags": []
          },
          "execution_count": 28
        },
        {
          "output_type": "display_data",
          "data": {
            "image/png": "[encoded data removed]",
            "text/plain": [
              "<Figure size 720x360 with 1 Axes>"
            ]
          },
          "metadata": {
            "tags": [],
            "needs_background": "light"
          }
        }
      ]
    },
    {
      "cell_type": "markdown",
      "metadata": {
        "id": "JMZuHGKQ_Nz3"
      },
      "source": [
        "The black line is the best fit of our data"
      ]
    },
    {
      "cell_type": "markdown",
      "metadata": {
        "id": "zEVaobK_4-zi"
      },
      "source": [
        "**Prediction and Evaluation of the model**"
      ]
    },
    {
      "cell_type": "code",
      "metadata": {
        "colab": {
          "base_uri": "https://localhost:8080/"
        },
        "id": "CjWXt03krS4r",
        "outputId": "266e7532-d290-4373-beda-d4a6ae987874"
      },
      "source": [
        "#method to measure the accuracy of our model.\r\n",
        "from sklearn import metrics \r\n",
        "from sklearn.metrics import r2_score \r\n",
        "y_pre=lr.predict(test_x) #predict using the linear model\r\n",
        "print('mean absolute error- {}'.format(metrics.mean_absolute_error(y_pre, test_y)))\r\n",
        "print('r2 score-  %.2f'% r2_score(y_pre, test_y))"
      ],
      "execution_count": null,
      "outputs": [
        {
          "output_type": "stream",
          "text": [
            "mean absolute error- 4.877039354964476\n",
            "r2 score-  0.98\n"
          ],
          "name": "stdout"
        }
      ]
    },
    {
      "cell_type": "code",
      "metadata": {
        "colab": {
          "base_uri": "https://localhost:8080/",
          "height": 195
        },
        "id": "q_rvJVtWsoZc",
        "outputId": "c5b94197-19af-4dcd-8d5c-e14c4a492843"
      },
      "source": [
        "new_df = pd.DataFrame({'Actual': test_y, 'Predicted': y_pre})\r\n",
        "new_df"
      ],
      "execution_count": null,
      "outputs": [
        {
          "output_type": "execute_result",
          "data": {
            "text/html": [
              "<div>\n",
              "<style scoped>\n",
              "    .dataframe tbody tr th:only-of-type {\n",
              "        vertical-align: middle;\n",
              "    }\n",
              "\n",
              "    .dataframe tbody tr th {\n",
              "        vertical-align: top;\n",
              "    }\n",
              "\n",
              "    .dataframe thead th {\n",
              "        text-align: right;\n",
              "    }\n",
              "</style>\n",
              "<table border=\"1\" class=\"dataframe\">\n",
              "  <thead>\n",
              "    <tr style=\"text-align: right;\">\n",
              "      <th></th>\n",
              "      <th>Actual</th>\n",
              "      <th>Predicted</th>\n",
              "    </tr>\n",
              "  </thead>\n",
              "  <tbody>\n",
              "    <tr>\n",
              "      <th>0</th>\n",
              "      <td>17</td>\n",
              "      <td>12.442587</td>\n",
              "    </tr>\n",
              "    <tr>\n",
              "      <th>1</th>\n",
              "      <td>21</td>\n",
              "      <td>26.359448</td>\n",
              "    </tr>\n",
              "    <tr>\n",
              "      <th>2</th>\n",
              "      <td>24</td>\n",
              "      <td>20.395079</td>\n",
              "    </tr>\n",
              "    <tr>\n",
              "      <th>3</th>\n",
              "      <td>88</td>\n",
              "      <td>92.961570</td>\n",
              "    </tr>\n",
              "    <tr>\n",
              "      <th>4</th>\n",
              "      <td>76</td>\n",
              "      <td>70.098155</td>\n",
              "    </tr>\n",
              "  </tbody>\n",
              "</table>\n",
              "</div>"
            ],
            "text/plain": [
              "   Actual  Predicted\n",
              "0      17  12.442587\n",
              "1      21  26.359448\n",
              "2      24  20.395079\n",
              "3      88  92.961570\n",
              "4      76  70.098155"
            ]
          },
          "metadata": {
            "tags": []
          },
          "execution_count": 26
        }
      ]
    },
    {
      "cell_type": "markdown",
      "metadata": {
        "id": "B43LmXOvd4-s"
      },
      "source": [
        "Here you can see the comparison between actual and predicted"
      ]
    },
    {
      "cell_type": "markdown",
      "metadata": {
        "id": "HqlmLZr1teO8"
      },
      "source": [
        "**Predicting the score**"
      ]
    },
    {
      "cell_type": "markdown",
      "metadata": {
        "id": "OcDOps9beW0A"
      },
      "source": [
        "predicting the score with single input value."
      ]
    },
    {
      "cell_type": "code",
      "metadata": {
        "colab": {
          "base_uri": "https://localhost:8080/"
        },
        "id": "G3vcJ0UNtekN",
        "outputId": "3e574da7-7cd4-4cd8-9ae8-40ac1d425f1a"
      },
      "source": [
        "hours=9.2\r\n",
        "predicted_score=lr.predict([[hours]])\r\n",
        "print(f'number of hours= {hours}')\r\n",
        "print(f'number of hours= {predicted_score[0]}')"
      ],
      "execution_count": null,
      "outputs": [
        {
          "output_type": "stream",
          "text": [
            "number of hours= 9.2\n",
            "number of hours= 92.96156979970104\n"
          ],
          "name": "stdout"
        }
      ]
    }
  ]
}